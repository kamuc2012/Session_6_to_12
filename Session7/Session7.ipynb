{
 "cells": [
  {
   "cell_type": "markdown",
   "metadata": {},
   "source": [
    "# Problem Statement 1:\n",
    "\n",
    "1) How-to-count-distance-to-the-previous-zero\n",
    "For each value, count the difference of the distance from the previous zero (or the start of the Series, whichever is closer) and if there are no previous zeros, print the position\n",
    "\n",
    "Consider a DataFrame df where there is an integer column {'X'[7, 2, 0, 3, 4, 2, 5, 0, 3, 4]}\n",
    "\n",
    "The values should therefore be [1, 2, 0, 1, 2, 3, 4, 0, 1, 2]. Make this a new column 'Y'.\n",
    "import pandas as pd\n",
    "df = pd.DataFrame({'X': [7, 2, 0, 3, 4, 2, 5, 0, 3, 4]})"
   ]
  },
  {
   "cell_type": "code",
   "execution_count": 1,
   "metadata": {},
   "outputs": [
    {
     "name": "stdout",
     "output_type": "stream",
     "text": [
      "count-distance-to-the-previous-zero\n"
     ]
    },
    {
     "data": {
      "text/html": [
       "<div>\n",
       "<style scoped>\n",
       "    .dataframe tbody tr th:only-of-type {\n",
       "        vertical-align: middle;\n",
       "    }\n",
       "\n",
       "    .dataframe tbody tr th {\n",
       "        vertical-align: top;\n",
       "    }\n",
       "\n",
       "    .dataframe thead th {\n",
       "        text-align: right;\n",
       "    }\n",
       "</style>\n",
       "<table border=\"1\" class=\"dataframe\">\n",
       "  <thead>\n",
       "    <tr style=\"text-align: right;\">\n",
       "      <th></th>\n",
       "      <th>X</th>\n",
       "      <th>Y</th>\n",
       "    </tr>\n",
       "  </thead>\n",
       "  <tbody>\n",
       "    <tr>\n",
       "      <th>0</th>\n",
       "      <td>7</td>\n",
       "      <td>1</td>\n",
       "    </tr>\n",
       "    <tr>\n",
       "      <th>1</th>\n",
       "      <td>2</td>\n",
       "      <td>2</td>\n",
       "    </tr>\n",
       "    <tr>\n",
       "      <th>2</th>\n",
       "      <td>0</td>\n",
       "      <td>0</td>\n",
       "    </tr>\n",
       "    <tr>\n",
       "      <th>3</th>\n",
       "      <td>3</td>\n",
       "      <td>1</td>\n",
       "    </tr>\n",
       "    <tr>\n",
       "      <th>4</th>\n",
       "      <td>4</td>\n",
       "      <td>2</td>\n",
       "    </tr>\n",
       "    <tr>\n",
       "      <th>5</th>\n",
       "      <td>2</td>\n",
       "      <td>3</td>\n",
       "    </tr>\n",
       "    <tr>\n",
       "      <th>6</th>\n",
       "      <td>5</td>\n",
       "      <td>4</td>\n",
       "    </tr>\n",
       "    <tr>\n",
       "      <th>7</th>\n",
       "      <td>0</td>\n",
       "      <td>0</td>\n",
       "    </tr>\n",
       "    <tr>\n",
       "      <th>8</th>\n",
       "      <td>3</td>\n",
       "      <td>1</td>\n",
       "    </tr>\n",
       "    <tr>\n",
       "      <th>9</th>\n",
       "      <td>4</td>\n",
       "      <td>2</td>\n",
       "    </tr>\n",
       "  </tbody>\n",
       "</table>\n",
       "</div>"
      ],
      "text/plain": [
       "   X  Y\n",
       "0  7  1\n",
       "1  2  2\n",
       "2  0  0\n",
       "3  3  1\n",
       "4  4  2\n",
       "5  2  3\n",
       "6  5  4\n",
       "7  0  0\n",
       "8  3  1\n",
       "9  4  2"
      ]
     },
     "execution_count": 1,
     "metadata": {},
     "output_type": "execute_result"
    }
   ],
   "source": [
    "import pandas as pd\n",
    "\n",
    "df = pd.DataFrame({\"X\": [7, 2, 0, 3, 4, 2, 5, 0, 3, 4]})\n",
    "Y, index = [], 0\n",
    "\n",
    "for i in range(len(df.X)):\n",
    "    if df.X[i] == 0:\n",
    "        index = 0\n",
    "    else:\n",
    "        index += 1\n",
    "    Y.append(index)\n",
    "\n",
    "df[\"Y\"] = Y\n",
    "print(\"count-distance-to-the-previous-zero\")\n",
    "df"
   ]
  },
  {
   "cell_type": "markdown",
   "metadata": {},
   "source": [
    "2) Create a DatetimeIndex that contains each business day of 2015 and use it to index a Series of random numbers."
   ]
  },
  {
   "cell_type": "code",
   "execution_count": 2,
   "metadata": {},
   "outputs": [
    {
     "data": {
      "text/plain": [
       "2015-01-01    0.087410\n",
       "2015-01-02    0.445303\n",
       "2015-01-05    0.166941\n",
       "2015-01-06    0.418884\n",
       "2015-01-07    0.937914\n",
       "2015-01-08    0.627372\n",
       "2015-01-09    0.776114\n",
       "2015-01-12    0.203518\n",
       "2015-01-13    0.683256\n",
       "2015-01-14    0.564690\n",
       "2015-01-15    0.213692\n",
       "2015-01-16    0.283347\n",
       "2015-01-19    0.680931\n",
       "2015-01-20    0.559348\n",
       "2015-01-21    0.479486\n",
       "2015-01-22    0.436974\n",
       "2015-01-23    0.623640\n",
       "2015-01-26    0.336771\n",
       "2015-01-27    0.492855\n",
       "2015-01-28    0.902252\n",
       "2015-01-29    0.570326\n",
       "2015-01-30    0.984744\n",
       "2015-02-02    0.057861\n",
       "2015-02-03    0.586980\n",
       "2015-02-04    0.528294\n",
       "2015-02-05    0.142855\n",
       "2015-02-06    0.487019\n",
       "2015-02-09    0.394975\n",
       "2015-02-10    0.241141\n",
       "2015-02-11    0.211280\n",
       "                ...   \n",
       "2015-11-20    0.321970\n",
       "2015-11-23    0.417773\n",
       "2015-11-24    0.122544\n",
       "2015-11-25    0.703211\n",
       "2015-11-26    0.120443\n",
       "2015-11-27    0.374746\n",
       "2015-11-30    0.348356\n",
       "2015-12-01    0.217075\n",
       "2015-12-02    0.237454\n",
       "2015-12-03    0.409151\n",
       "2015-12-04    0.825671\n",
       "2015-12-07    0.080896\n",
       "2015-12-08    0.783313\n",
       "2015-12-09    0.332492\n",
       "2015-12-10    0.992672\n",
       "2015-12-11    0.942451\n",
       "2015-12-14    0.704979\n",
       "2015-12-15    0.224346\n",
       "2015-12-16    0.878075\n",
       "2015-12-17    0.480211\n",
       "2015-12-18    0.613945\n",
       "2015-12-21    0.448559\n",
       "2015-12-22    0.476733\n",
       "2015-12-23    0.643850\n",
       "2015-12-24    0.389770\n",
       "2015-12-25    0.820820\n",
       "2015-12-28    0.134319\n",
       "2015-12-29    0.429969\n",
       "2015-12-30    0.908928\n",
       "2015-12-31    0.026177\n",
       "Freq: B, Length: 261, dtype: float64"
      ]
     },
     "execution_count": 2,
     "metadata": {},
     "output_type": "execute_result"
    }
   ],
   "source": [
    "import numpy as np\n",
    "\n",
    "dates = pd.date_range(start=\"2015-01-01\", end=\"2015-12-31\", freq=\"B\") \n",
    "s = pd.Series(np.random.rand(len(dates)), index=dates)\n",
    "s"
   ]
  },
  {
   "cell_type": "markdown",
   "metadata": {},
   "source": [
    "3) Find the sum of the values in s for every Wednesday"
   ]
  },
  {
   "cell_type": "code",
   "execution_count": 3,
   "metadata": {},
   "outputs": [
    {
     "data": {
      "text/plain": [
       "27.474002579620485"
      ]
     },
     "execution_count": 3,
     "metadata": {},
     "output_type": "execute_result"
    }
   ],
   "source": [
    "s[dates.weekday == 2].sum()"
   ]
  },
  {
   "cell_type": "markdown",
   "metadata": {},
   "source": [
    "4) Average For each calendar month"
   ]
  },
  {
   "cell_type": "code",
   "execution_count": 4,
   "metadata": {},
   "outputs": [
    {
     "data": {
      "text/plain": [
       "2015-01-31    0.521626\n",
       "2015-02-28    0.425111\n",
       "2015-03-31    0.467907\n",
       "2015-04-30    0.509850\n",
       "2015-05-31    0.467616\n",
       "2015-06-30    0.513264\n",
       "2015-07-31    0.486229\n",
       "2015-08-31    0.649272\n",
       "2015-09-30    0.468868\n",
       "2015-10-31    0.498383\n",
       "2015-11-30    0.390258\n",
       "2015-12-31    0.521820\n",
       "Freq: M, dtype: float64"
      ]
     },
     "execution_count": 4,
     "metadata": {},
     "output_type": "execute_result"
    }
   ],
   "source": [
    "s.resample(\"M\").mean()"
   ]
  },
  {
   "cell_type": "markdown",
   "metadata": {},
   "source": [
    "5) For each group of four consecutive calendar months in s, find the date on which the highest value occurred."
   ]
  },
  {
   "cell_type": "code",
   "execution_count": 5,
   "metadata": {},
   "outputs": [
    {
     "name": "stdout",
     "output_type": "stream",
     "text": [
      "Jan-Apr =  2015-01-30 00:00:00\n",
      "May-Aug =  2015-06-17 00:00:00\n",
      "Sep-Dec =  2015-12-10 00:00:00\n"
     ]
    }
   ],
   "source": [
    "print(\"Jan-Apr = \", s[\"2015-01-01\":\"2015-04-30\"].idxmax())\n",
    "print(\"May-Aug = \", s[\"2015-05-01\":\"2015-08-31\"].idxmax())\n",
    "print(\"Sep-Dec = \", s[\"2015-09-01\":\"2015-12-31\"].idxmax())"
   ]
  },
  {
   "cell_type": "markdown",
   "metadata": {},
   "source": [
    "# Problem Statement 2:\n",
    "\n",
    "Read the dataset from the below link\n",
    "https://raw.githubusercontent.com/guipsamora/pandas_exercises/master/06_Stats/US_Baby_Names/US_Baby_Names_right.csv"
   ]
  },
  {
   "cell_type": "code",
   "execution_count": 6,
   "metadata": {},
   "outputs": [
    {
     "data": {
      "text/html": [
       "<div>\n",
       "<style scoped>\n",
       "    .dataframe tbody tr th:only-of-type {\n",
       "        vertical-align: middle;\n",
       "    }\n",
       "\n",
       "    .dataframe tbody tr th {\n",
       "        vertical-align: top;\n",
       "    }\n",
       "\n",
       "    .dataframe thead th {\n",
       "        text-align: right;\n",
       "    }\n",
       "</style>\n",
       "<table border=\"1\" class=\"dataframe\">\n",
       "  <thead>\n",
       "    <tr style=\"text-align: right;\">\n",
       "      <th></th>\n",
       "      <th>Unnamed: 0</th>\n",
       "      <th>Id</th>\n",
       "      <th>Name</th>\n",
       "      <th>Year</th>\n",
       "      <th>Gender</th>\n",
       "      <th>State</th>\n",
       "      <th>Count</th>\n",
       "    </tr>\n",
       "  </thead>\n",
       "  <tbody>\n",
       "    <tr>\n",
       "      <th>0</th>\n",
       "      <td>11349</td>\n",
       "      <td>11350</td>\n",
       "      <td>Emma</td>\n",
       "      <td>2004</td>\n",
       "      <td>F</td>\n",
       "      <td>AK</td>\n",
       "      <td>62</td>\n",
       "    </tr>\n",
       "    <tr>\n",
       "      <th>1</th>\n",
       "      <td>11350</td>\n",
       "      <td>11351</td>\n",
       "      <td>Madison</td>\n",
       "      <td>2004</td>\n",
       "      <td>F</td>\n",
       "      <td>AK</td>\n",
       "      <td>48</td>\n",
       "    </tr>\n",
       "    <tr>\n",
       "      <th>2</th>\n",
       "      <td>11351</td>\n",
       "      <td>11352</td>\n",
       "      <td>Hannah</td>\n",
       "      <td>2004</td>\n",
       "      <td>F</td>\n",
       "      <td>AK</td>\n",
       "      <td>46</td>\n",
       "    </tr>\n",
       "    <tr>\n",
       "      <th>3</th>\n",
       "      <td>11352</td>\n",
       "      <td>11353</td>\n",
       "      <td>Grace</td>\n",
       "      <td>2004</td>\n",
       "      <td>F</td>\n",
       "      <td>AK</td>\n",
       "      <td>44</td>\n",
       "    </tr>\n",
       "    <tr>\n",
       "      <th>4</th>\n",
       "      <td>11353</td>\n",
       "      <td>11354</td>\n",
       "      <td>Emily</td>\n",
       "      <td>2004</td>\n",
       "      <td>F</td>\n",
       "      <td>AK</td>\n",
       "      <td>41</td>\n",
       "    </tr>\n",
       "  </tbody>\n",
       "</table>\n",
       "</div>"
      ],
      "text/plain": [
       "   Unnamed: 0     Id     Name  Year Gender State  Count\n",
       "0       11349  11350     Emma  2004      F    AK     62\n",
       "1       11350  11351  Madison  2004      F    AK     48\n",
       "2       11351  11352   Hannah  2004      F    AK     46\n",
       "3       11352  11353    Grace  2004      F    AK     44\n",
       "4       11353  11354    Emily  2004      F    AK     41"
      ]
     },
     "execution_count": 6,
     "metadata": {},
     "output_type": "execute_result"
    }
   ],
   "source": [
    "import pandas as pd\n",
    "import numpy as np\n",
    "\n",
    "df = pd.read_csv(\"https://raw.githubusercontent.com/guipsamora/pandas_exercises/master/06_Stats/US_Baby_Names/US_Baby_Names_right.csv\")\n",
    "df.head()"
   ]
  },
  {
   "cell_type": "markdown",
   "metadata": {},
   "source": [
    "1) Delete unnamed columns"
   ]
  },
  {
   "cell_type": "code",
   "execution_count": 7,
   "metadata": {},
   "outputs": [
    {
     "data": {
      "text/html": [
       "<div>\n",
       "<style scoped>\n",
       "    .dataframe tbody tr th:only-of-type {\n",
       "        vertical-align: middle;\n",
       "    }\n",
       "\n",
       "    .dataframe tbody tr th {\n",
       "        vertical-align: top;\n",
       "    }\n",
       "\n",
       "    .dataframe thead th {\n",
       "        text-align: right;\n",
       "    }\n",
       "</style>\n",
       "<table border=\"1\" class=\"dataframe\">\n",
       "  <thead>\n",
       "    <tr style=\"text-align: right;\">\n",
       "      <th></th>\n",
       "      <th>Id</th>\n",
       "      <th>Name</th>\n",
       "      <th>Year</th>\n",
       "      <th>Gender</th>\n",
       "      <th>State</th>\n",
       "      <th>Count</th>\n",
       "    </tr>\n",
       "  </thead>\n",
       "  <tbody>\n",
       "    <tr>\n",
       "      <th>0</th>\n",
       "      <td>11350</td>\n",
       "      <td>Emma</td>\n",
       "      <td>2004</td>\n",
       "      <td>F</td>\n",
       "      <td>AK</td>\n",
       "      <td>62</td>\n",
       "    </tr>\n",
       "    <tr>\n",
       "      <th>1</th>\n",
       "      <td>11351</td>\n",
       "      <td>Madison</td>\n",
       "      <td>2004</td>\n",
       "      <td>F</td>\n",
       "      <td>AK</td>\n",
       "      <td>48</td>\n",
       "    </tr>\n",
       "    <tr>\n",
       "      <th>2</th>\n",
       "      <td>11352</td>\n",
       "      <td>Hannah</td>\n",
       "      <td>2004</td>\n",
       "      <td>F</td>\n",
       "      <td>AK</td>\n",
       "      <td>46</td>\n",
       "    </tr>\n",
       "    <tr>\n",
       "      <th>3</th>\n",
       "      <td>11353</td>\n",
       "      <td>Grace</td>\n",
       "      <td>2004</td>\n",
       "      <td>F</td>\n",
       "      <td>AK</td>\n",
       "      <td>44</td>\n",
       "    </tr>\n",
       "    <tr>\n",
       "      <th>4</th>\n",
       "      <td>11354</td>\n",
       "      <td>Emily</td>\n",
       "      <td>2004</td>\n",
       "      <td>F</td>\n",
       "      <td>AK</td>\n",
       "      <td>41</td>\n",
       "    </tr>\n",
       "  </tbody>\n",
       "</table>\n",
       "</div>"
      ],
      "text/plain": [
       "      Id     Name  Year Gender State  Count\n",
       "0  11350     Emma  2004      F    AK     62\n",
       "1  11351  Madison  2004      F    AK     48\n",
       "2  11352   Hannah  2004      F    AK     46\n",
       "3  11353    Grace  2004      F    AK     44\n",
       "4  11354    Emily  2004      F    AK     41"
      ]
     },
     "execution_count": 7,
     "metadata": {},
     "output_type": "execute_result"
    }
   ],
   "source": [
    "df.drop(\"Unnamed: 0\", axis=1, inplace=True)\n",
    "df.head()"
   ]
  },
  {
   "cell_type": "markdown",
   "metadata": {},
   "source": [
    "2) Show the distribution of male and female"
   ]
  },
  {
   "cell_type": "code",
   "execution_count": 8,
   "metadata": {},
   "outputs": [
    {
     "name": "stdout",
     "output_type": "stream",
     "text": [
      "            Id    Name    Year   State   Count\n",
      "Gender                                        \n",
      "F       558846  558846  558846  558846  558846\n",
      "M       457549  457549  457549  457549  457549\n",
      "\n",
      "F    0.549832\n",
      "M    0.450168\n",
      "Name: Gender, dtype: float64\n"
     ]
    }
   ],
   "source": [
    "print(df.groupby(\"Gender\").count())\n",
    "print()\n",
    "print(df[\"Gender\"].value_counts(\"F\"))"
   ]
  },
  {
   "cell_type": "markdown",
   "metadata": {},
   "source": [
    "3) Show the top 5 most preferred names"
   ]
  },
  {
   "cell_type": "code",
   "execution_count": 9,
   "metadata": {},
   "outputs": [
    {
     "data": {
      "text/plain": [
       "Riley     1112\n",
       "Avery     1080\n",
       "Jordan    1073\n",
       "Peyton    1064\n",
       "Hayden    1049\n",
       "Name: Name, dtype: int64"
      ]
     },
     "execution_count": 9,
     "metadata": {},
     "output_type": "execute_result"
    }
   ],
   "source": [
    "df[\"Name\"].value_counts().head()"
   ]
  },
  {
   "cell_type": "markdown",
   "metadata": {},
   "source": [
    "4) What is the median name occurrence in the dataset"
   ]
  },
  {
   "cell_type": "code",
   "execution_count": 10,
   "metadata": {},
   "outputs": [
    {
     "data": {
      "text/html": [
       "<div>\n",
       "<style scoped>\n",
       "    .dataframe tbody tr th:only-of-type {\n",
       "        vertical-align: middle;\n",
       "    }\n",
       "\n",
       "    .dataframe tbody tr th {\n",
       "        vertical-align: top;\n",
       "    }\n",
       "\n",
       "    .dataframe thead th {\n",
       "        text-align: right;\n",
       "    }\n",
       "</style>\n",
       "<table border=\"1\" class=\"dataframe\">\n",
       "  <thead>\n",
       "    <tr style=\"text-align: right;\">\n",
       "      <th></th>\n",
       "      <th>Id</th>\n",
       "      <th>Name</th>\n",
       "      <th>Year</th>\n",
       "      <th>Gender</th>\n",
       "      <th>State</th>\n",
       "      <th>Count</th>\n",
       "    </tr>\n",
       "  </thead>\n",
       "  <tbody>\n",
       "    <tr>\n",
       "      <th>508197</th>\n",
       "      <td>2811921</td>\n",
       "      <td>Kasey</td>\n",
       "      <td>2010</td>\n",
       "      <td>F</td>\n",
       "      <td>MO</td>\n",
       "      <td>6</td>\n",
       "    </tr>\n",
       "  </tbody>\n",
       "</table>\n",
       "</div>"
      ],
      "text/plain": [
       "             Id   Name  Year Gender State  Count\n",
       "508197  2811921  Kasey  2010      F    MO      6"
      ]
     },
     "execution_count": 10,
     "metadata": {},
     "output_type": "execute_result"
    }
   ],
   "source": [
    "data_median =  (np.where(df[\"Id\"] == df[\"Id\"].median()))\n",
    "df.loc[data_median]"
   ]
  },
  {
   "cell_type": "markdown",
   "metadata": {},
   "source": [
    "5) Distribution of male and female born count by states"
   ]
  },
  {
   "cell_type": "code",
   "execution_count": 11,
   "metadata": {},
   "outputs": [
    {
     "data": {
      "text/plain": [
       "State  Gender\n",
       "AK     F          2404\n",
       "       M          2587\n",
       "AL     F          9878\n",
       "       M          8419\n",
       "AR     F          7171\n",
       "       M          6475\n",
       "AZ     F         14518\n",
       "       M         10820\n",
       "CA     F         45144\n",
       "       M         31637\n",
       "CO     F         11424\n",
       "       M          9183\n",
       "CT     F          6575\n",
       "       M          5733\n",
       "DC     F          3053\n",
       "       M          3000\n",
       "DE     F          2549\n",
       "       M          2440\n",
       "FL     F         25781\n",
       "       M         20070\n",
       "GA     F         19385\n",
       "       M         15454\n",
       "HI     F          3255\n",
       "       M          3546\n",
       "IA     F          7131\n",
       "       M          6307\n",
       "ID     F          4918\n",
       "       M          4833\n",
       "IL     F         21268\n",
       "       M         16828\n",
       "                 ...  \n",
       "OK     F          9519\n",
       "       M          8138\n",
       "OR     F          8604\n",
       "       M          7333\n",
       "PA     F         17480\n",
       "       M         14171\n",
       "RI     F          2558\n",
       "       M          2468\n",
       "SC     F          9465\n",
       "       M          8195\n",
       "SD     F          2838\n",
       "       M          2908\n",
       "TN     F         13063\n",
       "       M         10588\n",
       "TX     F         39760\n",
       "       M         27791\n",
       "UT     F          9515\n",
       "       M          8233\n",
       "VA     F         14759\n",
       "       M         11997\n",
       "VT     F          1398\n",
       "       M          1618\n",
       "WA     F         13329\n",
       "       M         11049\n",
       "WI     F         10549\n",
       "       M          8940\n",
       "WV     F          4305\n",
       "       M          3733\n",
       "WY     F          1456\n",
       "       M          1904\n",
       "Name: Count, Length: 102, dtype: int64"
      ]
     },
     "execution_count": 11,
     "metadata": {},
     "output_type": "execute_result"
    }
   ],
   "source": [
    "df.groupby([\"State\", \"Gender\"]).count()[\"Count\"]"
   ]
  }
 ],
 "metadata": {
  "kernelspec": {
   "display_name": "Python 3",
   "language": "python",
   "name": "python3"
  },
  "language_info": {
   "codemirror_mode": {
    "name": "ipython",
    "version": 3
   },
   "file_extension": ".py",
   "mimetype": "text/x-python",
   "name": "python",
   "nbconvert_exporter": "python",
   "pygments_lexer": "ipython3",
   "version": "3.7.1"
  }
 },
 "nbformat": 4,
 "nbformat_minor": 2
}
